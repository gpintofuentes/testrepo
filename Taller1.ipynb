{
  "nbformat": 4,
  "nbformat_minor": 0,
  "metadata": {
    "colab": {
      "provenance": []
    },
    "kernelspec": {
      "name": "python3",
      "display_name": "Python 3"
    },
    "language_info": {
      "name": "python"
    }
  },
  "cells": [
    {
      "cell_type": "code",
      "execution_count": 1,
      "metadata": {
        "colab": {
          "base_uri": "https://localhost:8080/"
        },
        "id": "R_sdnvWgerzO",
        "outputId": "c7cfaec4-4c2b-4b06-9e44-292517bb4739"
      },
      "outputs": [
        {
          "output_type": "stream",
          "name": "stdout",
          "text": [
            "<class 'str'>\n",
            "<class 'float'>\n",
            "<class 'complex'>\n",
            "<class 'bool'>\n"
          ]
        }
      ],
      "source": [
        "import numpy as np\n",
        "import pandas as pd\n",
        "import sympy as sp\n",
        "\n",
        "# Definir objetos y sus clases\n",
        "h = \"Hola!!!\"\n",
        "print(type(h))\n",
        "\n",
        "a = 2.56\n",
        "print(type(a))\n",
        "\n",
        "c = complex(2, 7)\n",
        "print(type(c))\n",
        "\n",
        "p = True\n",
        "print(type(p))\n"
      ]
    },
    {
      "cell_type": "code",
      "source": [
        "\n",
        "# Operaciones aritméticas\n",
        "print((11 + 2) * 3)\n",
        "print(11 * 3 - 8 / 2 + np.sqrt(25))\n",
        "print(5 ** 2)\n",
        "\n",
        "b = 3 * np.arange(2, 7)\n",
        "print(b)\n"
      ],
      "metadata": {
        "colab": {
          "base_uri": "https://localhost:8080/"
        },
        "id": "riy4NfOLevvk",
        "outputId": "2070e9e8-4597-41b5-b118-bd5035f52d47"
      },
      "execution_count": 2,
      "outputs": [
        {
          "output_type": "stream",
          "name": "stdout",
          "text": [
            "39\n",
            "34.0\n",
            "25\n",
            "[ 6  9 12 15 18]\n"
          ]
        }
      ]
    },
    {
      "cell_type": "code",
      "source": [
        "\n",
        "# Trabajo con vectores\n",
        "x = np.array([1, 7, 5, 4])  # Definir un array con valores específicos\n",
        "y = np.array([2, 1, 8])  # Definir otro array con diferentes valores\n",
        "z = np.concatenate((x, y))  # Concatenar los arrays x e y en un solo array\n",
        "print(z)  # Imprimir el resultado de la concatenación\n",
        "\n",
        "print(np.arange(2, 11, 2))  # Generar una secuencia de números pares desde 2 hasta 10\n",
        "print(np.repeat(y, 2))  # Repetir cada elemento del array y dos veces\n",
        "print(np.repeat(y, repeats=2))  # Otra forma de repetir cada elemento de y dos veces\n",
        "print(np.repeat(y, repeats=3))  # Repetir cada elemento de y tres veces\n",
        "\n",
        "print(2 + x)  # Sumar 2 a cada elemento del array x\n",
        "print(x[:len(y)] + y)  # Sumar los primeros elementos de x con y\n",
        "print(len(x))  # Obtener la longitud del array x\n",
        "print(len(y))  # Obtener la longitud del array y\n",
        "\n",
        "yn = np.append(y, 6)  # Agregar el valor 6 al final del array y\n",
        "print(x + yn[:len(x)])  # Sumar x con los primeros elementos de yn\n",
        "print(1 / x)  # Obtener el inverso de cada elemento de x\n",
        "print(yn**2)  # Elevar al cuadrado cada elemento del array yn\n",
        "print(np.sqrt(yn**2))  # Obtener la raíz cuadrada de cada elemento elevado al cuadrado\n"
      ],
      "metadata": {
        "colab": {
          "base_uri": "https://localhost:8080/"
        },
        "id": "vUS4FQh2e9pY",
        "outputId": "212cf2c3-edb0-4fed-a665-71c77437ed0b"
      },
      "execution_count": 11,
      "outputs": [
        {
          "output_type": "stream",
          "name": "stdout",
          "text": [
            "[1 7 5 4 2 1 8]\n",
            "[ 2  4  6  8 10]\n",
            "[2 2 1 1 8 8]\n",
            "[2 2 1 1 8 8]\n",
            "[2 2 2 1 1 1 8 8 8]\n",
            "[3 9 7 6]\n",
            "[ 3  8 13]\n",
            "4\n",
            "3\n",
            "[ 3  8 13 10]\n",
            "[1.         0.14285714 0.2        0.25      ]\n",
            "[ 4  1 64 36]\n",
            "[2. 1. 8. 6.]\n"
          ]
        }
      ]
    },
    {
      "cell_type": "code",
      "source": [
        "\n",
        "# Selección de coordenadas de un vector\n",
        "print(x[1])  # Obtener el segundo elemento del array x\n",
        "print(x[[0, 2]])  # Obtener los elementos en las posiciones 0 y 2 de x\n",
        "print(x[1:4])  # Obtener los elementos desde la posición 1 hasta la 3 de x\n",
        "print(np.delete(x, [0, 2]))  # Eliminar los elementos en las posiciones 0 y 2 de x\n",
        "print(x[x > 4])  # Obtener los elementos de x que sean mayores que 4\n",
        "print(np.where(x > 4))  # Obtener los índices donde los elementos de x son mayores que 4\n",
        "print(x[np.where(x > 4)])  # Obtener los elementos de x que cumplen la condición de ser mayores que 4\n",
        "print(x[np.where((x > 1) & (x < 5))])  # Obtener los elementos de x que sean mayores que 1 y menores que 5\n",
        "print(x[np.where((x > 1) | (x < 5))])  # Obtener los elementos de x que sean mayores que 1 o menores que 5\n",
        "\n"
      ],
      "metadata": {
        "colab": {
          "base_uri": "https://localhost:8080/"
        },
        "id": "R2wedhOdfDAg",
        "outputId": "e34358a4-e9cf-4402-ba8c-787ac8a4765a"
      },
      "execution_count": 12,
      "outputs": [
        {
          "output_type": "stream",
          "name": "stdout",
          "text": [
            "7\n",
            "[1 5]\n",
            "[7 5 4]\n",
            "[7 4]\n",
            "[7 5]\n",
            "(array([1, 2]),)\n",
            "[7 5]\n",
            "[4]\n",
            "[1 7 5 4]\n"
          ]
        }
      ]
    },
    {
      "cell_type": "code",
      "source": [
        "\n",
        "# Trabajo con matrices\n",
        "m = np.arange(1, 10).reshape(3, 3)  # Crear una matriz de 3x3 con valores del 1 al 9\n",
        "print(m)  # Imprimir la matriz completa\n",
        "print(m[0, 1])  # Obtener el valor en la fila 0, columna 1\n",
        "print(m[0, :])  # Obtener la primera fila completa\n",
        "print(m[:, 1])  # Obtener la segunda columna completa\n",
        "print(m[m > 3])  # Obtener los elementos de la matriz mayores que 3\n",
        "print(np.where(m > 3))  # Obtener los índices de los elementos mayores que 3\n"
      ],
      "metadata": {
        "colab": {
          "base_uri": "https://localhost:8080/"
        },
        "id": "Dz-5_clIfqlM",
        "outputId": "19ed0766-2970-4905-ced8-920e12285d1f"
      },
      "execution_count": 13,
      "outputs": [
        {
          "output_type": "stream",
          "name": "stdout",
          "text": [
            "[[1 2 3]\n",
            " [4 5 6]\n",
            " [7 8 9]]\n",
            "2\n",
            "[1 2 3]\n",
            "[2 5 8]\n",
            "[4 5 6 7 8 9]\n",
            "(array([1, 1, 1, 2, 2, 2]), array([0, 1, 2, 0, 1, 2]))\n"
          ]
        }
      ]
    },
    {
      "cell_type": "code",
      "source": [
        "\n",
        "# Operaciones con matrices\n",
        "print(np.matmul(m, m))  # Calcular el producto matricial de m por sí misma\n",
        "print(m * m)  # Multiplicación elemento a elemento de la matriz m\n",
        "print(m.T)  # Obtener la traspuesta de la matriz m\n",
        "print(np.linalg.det(m))  # Calcular el determinante de la matriz m\n",
        "print(np.diag(m))  # Extraer la diagonal de la matriz m\n",
        "print(np.linalg.pinv(m))  # Calcular la pseudo-inversa de la matriz m\n",
        "\n"
      ],
      "metadata": {
        "colab": {
          "base_uri": "https://localhost:8080/"
        },
        "id": "XBRA6VB6f1fR",
        "outputId": "542acf5c-b730-4325-db3d-97b7f6771987"
      },
      "execution_count": 14,
      "outputs": [
        {
          "output_type": "stream",
          "name": "stdout",
          "text": [
            "[[ 30  36  42]\n",
            " [ 66  81  96]\n",
            " [102 126 150]]\n",
            "[[ 1  4  9]\n",
            " [16 25 36]\n",
            " [49 64 81]]\n",
            "[[1 4 7]\n",
            " [2 5 8]\n",
            " [3 6 9]]\n",
            "0.0\n",
            "[1 5 9]\n",
            "[[-6.38888889e-01 -1.66666667e-01  3.05555556e-01]\n",
            " [-5.55555556e-02  4.20756436e-17  5.55555556e-02]\n",
            " [ 5.27777778e-01  1.66666667e-01 -1.94444444e-01]]\n"
          ]
        }
      ]
    },
    {
      "cell_type": "code",
      "source": [
        "\n",
        "# Crear un DataFrame\n",
        "e = np.arange(17, 21)  # Crear un array con edades de 17 a 20\n",
        "g = np.tile([\"f\", \"m\"], 2)  # Repetir \"f\" y \"m\" dos veces para definir género\n",
        "midata = pd.DataFrame({\"edad\": e, \"sexo\": g})  # Crear un DataFrame con edades y sexos\n",
        "print(midata)  # Imprimir el DataFrame\n",
        "print(midata.dtypes)  # Mostrar los tipos de datos de cada columna\n",
        "\n",
        "midata[\"sexo\"] = pd.Categorical(midata[\"sexo\"], categories=[\"m\", \"f\"])  # Convertir la columna \"sexo\" en una categoría ordenada\n",
        "print(midata[\"edad\"])  # Imprimir la columna de edades\n",
        "print(midata.iloc[:, 0])  # Extraer la primera columna del DataFrame\n",
        "print(midata.iloc[2, :])  # Extraer la tercera fila del DataFrame\n"
      ],
      "metadata": {
        "colab": {
          "base_uri": "https://localhost:8080/"
        },
        "id": "wyBrGFsBgO6H",
        "outputId": "59309894-a2ae-4b13-bf67-c10e19f2e9e2"
      },
      "execution_count": 15,
      "outputs": [
        {
          "output_type": "stream",
          "name": "stdout",
          "text": [
            "   edad sexo\n",
            "0    17    f\n",
            "1    18    m\n",
            "2    19    f\n",
            "3    20    m\n",
            "edad     int64\n",
            "sexo    object\n",
            "dtype: object\n",
            "0    17\n",
            "1    18\n",
            "2    19\n",
            "3    20\n",
            "Name: edad, dtype: int64\n",
            "0    17\n",
            "1    18\n",
            "2    19\n",
            "3    20\n",
            "Name: edad, dtype: int64\n",
            "edad    19\n",
            "sexo     f\n",
            "Name: 2, dtype: object\n"
          ]
        }
      ]
    },
    {
      "cell_type": "code",
      "source": [
        "\n",
        "\n",
        "# Cargar datos de iris y exportar\n",
        "iris = load_iris()  # Cargar el conjunto de datos de iris\n",
        "iris_df = pd.DataFrame(iris.data, columns=iris.feature_names)  # Convertirlo en un DataFrame\n",
        "print(iris_df.info())  # Mostrar información del DataFrame\n",
        "\n",
        "iris_df.to_csv(\"iris.csv\", index=False)  # Guardar los datos en un archivo CSV sin incluir los índices\n",
        "\n",
        "# Leer los datos\n",
        "dat = pd.read_csv(\"iris.csv\")  # Leer el archivo CSV almacenado previamente\n",
        "print(dat.info())  # Mostrar información del DataFrame cargado\n",
        "\n",
        "# Función condicional\n",
        "a = 5  # Definir una variable a con valor 5\n",
        "if a < 0:\n",
        "    print(\"negativo\")  # Si a es menor que 0, imprimir \"negativo\"\n",
        "elif a < 3:\n",
        "    print(\"a < 3\")  # Si a es menor que 3, imprimir \"a < 3\"\n",
        "else:\n",
        "    print(\"a > 3\")  # Si ninguna de las condiciones anteriores se cumple, imprimir \"a > 3\"\n"
      ],
      "metadata": {
        "colab": {
          "base_uri": "https://localhost:8080/"
        },
        "id": "MeuHL8wVgqtS",
        "outputId": "53bb76ed-63b7-4dfc-b763-2a4a5f0f48c0"
      },
      "execution_count": 16,
      "outputs": [
        {
          "output_type": "stream",
          "name": "stdout",
          "text": [
            "<class 'pandas.core.frame.DataFrame'>\n",
            "RangeIndex: 150 entries, 0 to 149\n",
            "Data columns (total 4 columns):\n",
            " #   Column             Non-Null Count  Dtype  \n",
            "---  ------             --------------  -----  \n",
            " 0   sepal length (cm)  150 non-null    float64\n",
            " 1   sepal width (cm)   150 non-null    float64\n",
            " 2   petal length (cm)  150 non-null    float64\n",
            " 3   petal width (cm)   150 non-null    float64\n",
            "dtypes: float64(4)\n",
            "memory usage: 4.8 KB\n",
            "None\n",
            "<class 'pandas.core.frame.DataFrame'>\n",
            "RangeIndex: 150 entries, 0 to 149\n",
            "Data columns (total 4 columns):\n",
            " #   Column             Non-Null Count  Dtype  \n",
            "---  ------             --------------  -----  \n",
            " 0   sepal length (cm)  150 non-null    float64\n",
            " 1   sepal width (cm)   150 non-null    float64\n",
            " 2   petal length (cm)  150 non-null    float64\n",
            " 3   petal width (cm)   150 non-null    float64\n",
            "dtypes: float64(4)\n",
            "memory usage: 4.8 KB\n",
            "None\n",
            "a > 3\n"
          ]
        }
      ]
    }
  ]
}